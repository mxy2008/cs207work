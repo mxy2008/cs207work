{
 "cells": [
  {
   "cell_type": "markdown",
   "metadata": {
    "collapsed": true
   },
   "source": [
    "## Q1.\n",
    "\n",
    "Add a __setitem__ to the python linked list implementation from the lecture (this past wednesday)."
   ]
  },
  {
   "cell_type": "code",
   "execution_count": 2,
   "metadata": {
    "collapsed": true
   },
   "outputs": [],
   "source": [
    "#your code here\n",
    "from doctest import run_docstring_examples as dtest\n",
    "import numbers\n",
    "import reprlib\n",
    "class LL:\n",
    "    \"\"\"\n",
    "    >>> A = LL()  \n",
    "    >>> A[0]\n",
    "    Traceback (most recent call last):\n",
    "        ...\n",
    "    IndexError: trying to index an empty LL\n",
    "    >>> A.insert_front(1)\n",
    "    >>> A[0]\n",
    "    1\n",
    "    >>> A.insert_back(2)\n",
    "    >>> A[1]\n",
    "    2\n",
    "    >>> A\n",
    "    LL([1,...])\n",
    "    >>> myll = LL.from_components([1,2])\n",
    "    >>> myll[1]\n",
    "    1\n",
    "    >>> len(myll)\n",
    "    2\n",
    "    >>> myll[2]\n",
    "    Traceback (most recent call last):\n",
    "        ...\n",
    "    IndexError: LL index out of range\n",
    "    >>> myll[0:1]\n",
    "    Traceback (most recent call last):\n",
    "        ...\n",
    "    TypeError: LL indices must be integers\n",
    "    \"\"\"\n",
    "    @classmethod\n",
    "    def from_components(cls, components):\n",
    "        inst = cls(components[0])\n",
    "        for c in components[1:]:\n",
    "            inst.insert_front(c)\n",
    "        return inst\n",
    "        \n",
    "    def __init__(self, head=None):\n",
    "        if head is None:\n",
    "            self._headNode = None\n",
    "        else:\n",
    "            self._headNode = [head, None]\n",
    "            \n",
    "    def insert_front(self, element):\n",
    "        new_node = [element, None]\n",
    "        new_node[1] = self._headNode\n",
    "        self._headNode = new_node\n",
    "        \n",
    "    def insert_back(self, element):\n",
    "        new_node = [element, None]\n",
    "        curr_ptr = self._headNode\n",
    "        while curr_ptr[1] is not None:\n",
    "            curr_ptr = curr_ptr[1]\n",
    "        curr_ptr[1]= new_node\n",
    "        \n",
    "    def __repr__(self):\n",
    "        class_name = type(self).__name__\n",
    "        if len(self)==0:\n",
    "            components=\"\"\n",
    "        else:\n",
    "            components = reprlib.repr(self[0])\n",
    "        return '{}([{},...])'.format(class_name,components)\n",
    "\n",
    "\n",
    "    def __len__(self):\n",
    "        curr_ptr = self._headNode\n",
    "        count = 0\n",
    "        if curr_ptr==None:\n",
    "            return 0\n",
    "        while 1:\n",
    "            count = count + 1\n",
    "            if curr_ptr[1] is None:\n",
    "                break\n",
    "            curr_ptr = curr_ptr[1]\n",
    "        return count    \n",
    "    \n",
    "    def __getitem__(self, index):\n",
    "        class_name = type(self).__name__\n",
    "        if isinstance(index, numbers.Integral): \n",
    "            curr_ptr = self._headNode\n",
    "            if curr_ptr==None:\n",
    "                msg = 'trying to index an empty {class_name}' \n",
    "                raise IndexError(msg.format(class_name=class_name))\n",
    "            next_ptr = self._headNode[1]\n",
    "            count = 0\n",
    "            while 1:\n",
    "                if index == count:\n",
    "                    return curr_ptr[0]\n",
    "                if curr_ptr[1] is None:\n",
    "                    msg = '{class_name} index out of range' \n",
    "                    raise IndexError(msg.format(class_name=class_name))       \n",
    "                count += 1\n",
    "                curr_ptr = curr_ptr[1]\n",
    "        else:\n",
    "            msg = '{class_name} indices must be integers' \n",
    "            raise TypeError(msg.format(class_name=class_name))\n",
    "            \n",
    "    def __setitem__(self, index, element):\n",
    "        class_name = type(self).__name__\n",
    "        if isinstance(index, numbers.Integral): \n",
    "            curr_ptr = self._headNode\n",
    "            if curr_ptr==None:  #if the curr_ptr is none, then the linked list is empty\n",
    "                msg = 'trying to index an empty {class_name}' \n",
    "                raise IndexError(msg.format(class_name=class_name))\n",
    "            next_ptr = self._headNode[1]\n",
    "            count = 0\n",
    "            while 1:\n",
    "                #if the current index is the target one, then change its value to the new element\n",
    "                if index == count:\n",
    "                    curr_ptr[0] = element\n",
    "                    return\n",
    "                #if the current index is not the target one and it's the last one of the linked list,\n",
    "                #then raise a IndexError\n",
    "                if curr_ptr[1] is None:\n",
    "                    msg = '{class_name} index out of range' \n",
    "                    raise IndexError(msg.format(class_name=class_name))       \n",
    "                count += 1\n",
    "                curr_ptr = curr_ptr[1]\n",
    "        else:\n",
    "            #if index is not integer, raise a TypeError\n",
    "            msg = '{class_name} indices must be integers'  \n",
    "            raise TypeError(msg.format(class_name=class_name))\n",
    "            "
   ]
  },
  {
   "cell_type": "code",
   "execution_count": 3,
   "metadata": {
    "collapsed": false
   },
   "outputs": [
    {
     "name": "stdout",
     "output_type": "stream",
     "text": [
      "old_element:2\n",
      "new_element:3\n"
     ]
    }
   ],
   "source": [
    "#test my setitem function\n",
    "A = LL()\n",
    "A.insert_front(1)\n",
    "A.insert_back(2)\n",
    "print(\"old_element:\" + str(A[1]))\n",
    "A[1]= 3\n",
    "print(\"new_element:\" + str(A[1]))"
   ]
  },
  {
   "cell_type": "markdown",
   "metadata": {},
   "source": [
    "## Q2.\n",
    "\n",
    "An online mean and standard deviation algorithm.\n",
    "\n",
    "Below is a function to generate a potentially infinite stream of 1-D data."
   ]
  },
  {
   "cell_type": "code",
   "execution_count": 4,
   "metadata": {
    "collapsed": false
   },
   "outputs": [],
   "source": [
    "from random import normalvariate, random\n",
    "from itertools import count\n",
    "def make_data(m, stop=None):\n",
    "    for _ in count():\n",
    "        if stop and _ > stop:\n",
    "            break\n",
    "        yield 1.0e09 + normalvariate(0, m*random() ) #create a random python data\n",
    "        "
   ]
  },
  {
   "cell_type": "markdown",
   "metadata": {},
   "source": [
    "Here is an implementation of an online mean algorithm..see http://www.johndcook.com/blog/standard_deviation/ and the link to http://www.johndcook.com/blog/2008/09/26/comparing-three-methods-of-computing-standard-deviation/ in-between. (Convince yourselves of the formulas...)"
   ]
  },
  {
   "cell_type": "code",
   "execution_count": 5,
   "metadata": {
    "collapsed": true
   },
   "outputs": [],
   "source": [
    "def online_mean(iterator):\n",
    "    n = 0\n",
    "    mu = 0\n",
    "    for value in iterator:\n",
    "        n += 1\n",
    "        delta = value - mu\n",
    "        mu = mu + delta/n\n",
    "        yield mu"
   ]
  },
  {
   "cell_type": "markdown",
   "metadata": {},
   "source": [
    "We use out generator functions to implement iterators:"
   ]
  },
  {
   "cell_type": "code",
   "execution_count": 6,
   "metadata": {
    "collapsed": false
   },
   "outputs": [
    {
     "data": {
      "text/plain": [
       "[999999996.3260335,\n",
       " 1000000001.0862633,\n",
       " 1000000000.7680495,\n",
       " 999999998.093252,\n",
       " 999999999.5335846,\n",
       " 999999998.532835,\n",
       " 1000000000.3266121,\n",
       " 1000000004.5909083,\n",
       " 1000000001.5212009,\n",
       " 1000000000.0033947,\n",
       " 1000000000.6106484]"
      ]
     },
     "execution_count": 6,
     "metadata": {},
     "output_type": "execute_result"
    }
   ],
   "source": [
    "g = make_data(5, 10)\n",
    "list(g)"
   ]
  },
  {
   "cell_type": "code",
   "execution_count": 7,
   "metadata": {
    "collapsed": false
   },
   "outputs": [
    {
     "name": "stdout",
     "output_type": "stream",
     "text": [
      "<class 'generator'>\n"
     ]
    },
    {
     "data": {
      "text/plain": [
       "[999999996.5634227,\n",
       " 999999996.6407385,\n",
       " 999999997.1509119,\n",
       " 999999999.1424103,\n",
       " 999999999.4641758,\n",
       " 999999998.643685,\n",
       " 999999999.161778,\n",
       " 999999999.4390455,\n",
       " 999999999.6230265,\n",
       " 999999999.8834962]"
      ]
     },
     "execution_count": 7,
     "metadata": {},
     "output_type": "execute_result"
    }
   ],
   "source": [
    "g = online_mean(make_data(5, 100))\n",
    "print(type(g))\n",
    "list(g)[:10]"
   ]
  },
  {
   "cell_type": "markdown",
   "metadata": {},
   "source": [
    "### 2.1\n",
    "\n",
    "Implement the standard deviation algorithm as a generator function as\n",
    "\n",
    "```python\n",
    "def online_mean_dev(iterator):\n",
    "    BLA BLA\n",
    "    if n > 1:\n",
    "        stddev = math.sqrt(dev_accum/(n-1))\n",
    "        yield (n, value, mu, stddev)\n",
    "```"
   ]
  },
  {
   "cell_type": "markdown",
   "metadata": {},
   "source": [
    "Formula to calculate the sample variance:<br>\n",
    "Initialize $M_1 = x_1$ and $S_1 = 0$ <br>\n",
    "For subsequent x's, use the recurrence formulas<br>\n",
    "\n",
    "$M_k = M_{k-1}+ (x_k - M_{k-1})/k$<br>\n",
    "$S_k = S_{k-1} + (x_k - M_{k-1})*(x_k – M_k).$"
   ]
  },
  {
   "cell_type": "code",
   "execution_count": 16,
   "metadata": {
    "collapsed": false
   },
   "outputs": [],
   "source": [
    "# your code here\n",
    "import math\n",
    "def online_mean_dev(iterator):\n",
    "    n = 0\n",
    "    mu = 0 \n",
    "    dev_accum = 0\n",
    "    #stddev = 0\n",
    "    for value in iterator:\n",
    "        n += 1\n",
    "        #use the formula in the last cell\n",
    "        mu_new = mu + (value - mu)/n\n",
    "        dev_accum = dev_accum + (value - mu) * (value - mu_new)\n",
    "        mu = mu_new\n",
    "        if n > 1:\n",
    "            stddev = math.sqrt(dev_accum/(n-1))\n",
    "        else:\n",
    "            stddev = 0\n",
    "        yield (n, value, mu, stddev) "
   ]
  },
  {
   "cell_type": "markdown",
   "metadata": {},
   "source": [
    "Here we make 100000 element data, and run this iterator on it (imagine running this on a time-series being slowly read from disk"
   ]
  },
  {
   "cell_type": "code",
   "execution_count": 11,
   "metadata": {
    "collapsed": false
   },
   "outputs": [],
   "source": [
    "data_with_stats = online_mean_dev(make_data(5, 100000))\n",
    "#list(data_with_stats)[:10]"
   ]
  },
  {
   "cell_type": "markdown",
   "metadata": {},
   "source": [
    "## Q3.\n",
    "\n",
    "Let's do Anomaly detection. Write a routine `is_ok`:\n",
    "\n",
    "```python\n",
    "def is_ok(level, t)\n",
    "```\n",
    "\n",
    "which takes a tuple like the one yielded by your code above and returns True if the value is inbetween `level`-$\\sigma$ of the mean.\n",
    "<font color=blue> (mean+-level*$\\sigma$)"
   ]
  },
  {
   "cell_type": "code",
   "execution_count": 12,
   "metadata": {
    "collapsed": true
   },
   "outputs": [],
   "source": [
    "#your code here\n",
    "def is_ok(level, t):\n",
    "    n, value, mu, stddev = t\n",
    "    if stddev == 0:\n",
    "        return True\n",
    "    if math.fabs((value-mu)) / stddev < level:\n",
    "        return True\n",
    "    else: return False"
   ]
  },
  {
   "cell_type": "markdown",
   "metadata": {},
   "source": [
    "We use this function to create a predicate passed through to `itertools.filterfalse` which is then used to obtain an iterator on the anomalies."
   ]
  },
  {
   "cell_type": "code",
   "execution_count": 13,
   "metadata": {
    "collapsed": false
   },
   "outputs": [
    {
     "name": "stdout",
     "output_type": "stream",
     "text": [
      "<function <lambda> at 0x1040cc0d0>\n"
     ]
    }
   ],
   "source": [
    "from itertools import filterfalse\n",
    "pred = lambda t: is_ok(5, t)\n",
    "print (pred)\n",
    "anomalies = filterfalse(pred, data_with_stats)"
   ]
  },
  {
   "cell_type": "markdown",
   "metadata": {},
   "source": [
    "We materialize the anomalies..."
   ]
  },
  {
   "cell_type": "code",
   "execution_count": 14,
   "metadata": {
    "collapsed": false
   },
   "outputs": [
    {
     "data": {
      "text/plain": [
       "[(902, 1000000014.109446, 1000000000.0091741, 2.78624427599756),\n",
       " (8733, 1000000015.3192644, 1000000000.0271835, 2.9237170845803027),\n",
       " (9173, 999999984.9808483, 1000000000.0274365, 2.9128825502234856),\n",
       " (11963, 999999985.0426213, 1000000000.0199275, 2.8845438164629904),\n",
       " (14881, 999999985.5012885, 999999999.9993515, 2.882799539799625),\n",
       " (15450, 999999982.4162916, 999999999.9945586, 2.8917084949059384),\n",
       " (20816, 1000000018.7260305, 999999999.9969579, 2.8980509737612636),\n",
       " (22473, 1000000016.8269157, 999999999.9915435, 2.907261747642284),\n",
       " (23781, 1000000016.489669, 999999999.995187, 2.905536963738286),\n",
       " (29442, 1000000014.8428655, 1000000000.0006701, 2.908022208840012),\n",
       " (29814, 999999985.3596138, 1000000000.0027888, 2.909097476571968),\n",
       " (30635, 999999985.3822982, 1000000000.0030938, 2.903532532916623),\n",
       " (30803, 999999981.9434892, 1000000000.0024455, 2.9046474393976767),\n",
       " (32376, 1000000014.6008277, 1000000000.0054848, 2.9012966952037167),\n",
       " (32489, 999999984.6010219, 1000000000.0031742, 2.901026308032494),\n",
       " (32542, 999999984.1112369, 1000000000.001422, 2.9032524481922617),\n",
       " (34236, 1000000015.1226163, 1000000000.0029665, 2.8993440822745775),\n",
       " (35647, 1000000015.0904547, 999999999.9987113, 2.9002495380444113),\n",
       " (37634, 999999985.0402399, 1000000000.0004779, 2.8999397970929315),\n",
       " (41626, 1000000014.8874325, 999999999.9940325, 2.9025035188490165),\n",
       " (42260, 1000000015.1399574, 999999999.9942364, 2.9024762033436335),\n",
       " (45170, 999999985.1550878, 999999999.9969201, 2.9036075529364562),\n",
       " (45927, 999999984.5700855, 999999999.9964545, 2.905389281897321),\n",
       " (46922, 1000000017.6951799, 999999999.9963443, 2.907200971577299),\n",
       " (52300, 999999984.3867278, 999999999.9970883, 2.9010319601301253),\n",
       " (62417, 1000000016.4914796, 999999999.9933829, 2.8963256914833435),\n",
       " (72426, 999999985.3053932, 999999999.9925627, 2.888261125135643),\n",
       " (75401, 1000000015.33646, 999999999.9929518, 2.8895130349890343),\n",
       " (82177, 999999984.2698908, 999999999.990929, 2.885570582512982),\n",
       " (86706, 999999982.3416566, 999999999.9928623, 2.8870178064299714),\n",
       " (87159, 1000000015.2352806, 999999999.9910975, 2.8872910891808696),\n",
       " (93242, 999999984.9835647, 999999999.9976375, 2.8859540493306928),\n",
       " (98440, 1000000014.8929038, 999999999.9978545, 2.8834796741622313)]"
      ]
     },
     "execution_count": 14,
     "metadata": {},
     "output_type": "execute_result"
    }
   ],
   "source": [
    "list(anomalies)#materialize"
   ]
  },
  {
   "cell_type": "markdown",
   "metadata": {},
   "source": [
    "## To think of, but not hand in\n",
    "\n",
    "What kinds of anomalies will this algorithm pick up? What kinds would a shorter \"window\" of anomaly detection, like 100 points around the time in question pick? How might you create an algorithm which does window based averaging? (hint: the window size is small compared to the time series size). \n",
    "\n",
    "Finally think a bit of how you might implement all of this in a production environment..remember that data streaming in might get backed up when you handle an anomaly.\n",
    "\n",
    "(Some inspiration might accrue if you look at the docs for `collections.deque`).\n",
    "<font color=blue> one iterator is resumed by another one and form a pipeline."
   ]
  },
  {
   "cell_type": "code",
   "execution_count": null,
   "metadata": {
    "collapsed": true
   },
   "outputs": [],
   "source": []
  }
 ],
 "metadata": {
  "anaconda-cloud": {},
  "kernelspec": {
   "display_name": "Python [py35]",
   "language": "python",
   "name": "Python [py35]"
  },
  "language_info": {
   "codemirror_mode": {
    "name": "ipython",
    "version": 3
   },
   "file_extension": ".py",
   "mimetype": "text/x-python",
   "name": "python",
   "nbconvert_exporter": "python",
   "pygments_lexer": "ipython3",
   "version": "3.5.2"
  }
 },
 "nbformat": 4,
 "nbformat_minor": 0
}
