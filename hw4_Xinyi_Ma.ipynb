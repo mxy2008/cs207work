{
 "cells": [
  {
   "cell_type": "markdown",
   "metadata": {},
   "source": [
    "## Q1.\n",
    "\n",
    "Use github to integrate our math library from the lab with Travis CI and Coveralls.\n",
    "In the cell below, put a link to your github `cs207test` repo so we can track your badges."
   ]
  },
  {
   "cell_type": "markdown",
   "metadata": {},
   "source": [
    "*your answer here*<br>\n",
    "https://github.com/mxy2008/cs207test"
   ]
  },
  {
   "cell_type": "markdown",
   "metadata": {},
   "source": [
    "## Q2.\n",
    "\n",
    "Take the implementation of binary search from a previous lecture/lab. Write unit tests for the algorithm (remember we have doctests in there), stripping the doctests down to those that illustrate the interface for a user. How do these doctests deal with the concerns we had?\n",
    "\n",
    "Make sure you have good test coverage. You will be integrationg with Travis and Coveralls."
   ]
  },
  {
   "cell_type": "code",
   "execution_count": 1,
   "metadata": {
    "collapsed": false
   },
   "outputs": [
    {
     "name": "stdout",
     "output_type": "stream",
     "text": [
      "Overwriting binsearch.py\n"
     ]
    }
   ],
   "source": [
    "%%file binsearch.py\n",
    "def binary_search(da_array: list, needle, left:int=0, right:int=-1) -> int:\n",
    "    \"\"\"\n",
    "    An algorithm that operates in O(lg(n)) to search for an element\n",
    "    in an array sorted in ascending order.\n",
    "    \n",
    "    Parameters\n",
    "    ----------\n",
    "    da_array : list\n",
    "        a list of \"comparable\"items sorted in non-descending order\n",
    "    needle: an item to find in the array; it may or may not\n",
    "        be in the array\n",
    "    left: int, optional\n",
    "        the left index in the array to search from. Default 0\n",
    "    right: int, optional\n",
    "        the right index in the array to search to. Default is -1\n",
    "        in which case we will use the end of the array `len(da_array) - 1`\n",
    "        \n",
    "    Returns\n",
    "    -------\n",
    "    index: int\n",
    "        an integer representing the index of `needle` if found, and -1\n",
    "        otherwise\n",
    "        \n",
    "    Notes\n",
    "    -----\n",
    "    PRE: `da_array` is sorted in non-decreasing order (thus items in\n",
    "        `da_array` must be comparable: implement < and ==)\n",
    "    POST: \n",
    "        - `da_array` is not changed by this function (immutable)\n",
    "        - returns `index`=-1 if `needle` is not in `da_array`\n",
    "        - returns an int `index ` in [0:len(da_array)] if\n",
    "          `index` is in `da_array`\n",
    "    INVARIANTS:\n",
    "        - If `needle` in `da_array`, needle in `da_array[rangemin:rangemax]`\n",
    "          is a loop invariant in the while loop below.\n",
    "          \n",
    "    Examples\n",
    "    --------\n",
    "    >>> input = list(range(10))\n",
    "    >>> binary_search(input, 5)\n",
    "    5\n",
    "    >>> binary_search(input, 4.5)\n",
    "    -1\n",
    "    >>> binary_search(input, 10)\n",
    "    -1\n",
    "    >>> binary_search([5], 5)\n",
    "    0\n",
    "    >>> binary_search([5], 4)\n",
    "    -1\n",
    "    >>> import numpy as np\n",
    "    >>> binary_search([1,2,np.inf], 2)\n",
    "    1\n",
    "    >>> binary_search([1,2,np.inf], np.inf)\n",
    "    2\n",
    "    >>> binary_search(input, 5, 1,3)\n",
    "    -1\n",
    "    >>> binary_search(input, 2, 1,3)\n",
    "    2\n",
    "    >>> binary_search(input, 2, 3, 1)\n",
    "    -1\n",
    "    >>> binary_search(input, 2, 2, 2)\n",
    "    2\n",
    "    >>> binary_search(input, 5, 2, 2)\n",
    "    -1\n",
    "    \"\"\"\n",
    "    if left==0:\n",
    "        rangemin = 0\n",
    "    else:\n",
    "        rangemin = left\n",
    "    if right==-1:\n",
    "        rangemax=len(da_array) - 1\n",
    "    else:\n",
    "        rangemax=right\n",
    "    while True:\n",
    "        \"needle in da_array => needle in da_array[rangemin:rangemax]\"   \n",
    "        if rangemin > rangemax:\n",
    "            index = -1\n",
    "            return index\n",
    "        #If rangemin and rangemax are both very high we do not want overflow,\n",
    "        #so get the midpoint like this:\n",
    "        midpoint = rangemin + (rangemax - rangemin)//2\n",
    "        if da_array[midpoint] > needle:#lower part\n",
    "            rangemax = midpoint - 1\n",
    "        elif da_array[midpoint] < needle:\n",
    "            rangemin = midpoint + 1\n",
    "        else:\n",
    "            index = midpoint\n",
    "            return index\n"
   ]
  },
  {
   "cell_type": "markdown",
   "metadata": {},
   "source": [
    "Q: How do these doctests deal with the concerns we had?<br>\n",
    "\n",
    "A: Doctests first test whether the implementation will return the correct index of the item we want to find in the array. Then they test the case when the item is a float number or is not in the input array. They also test the case when the input array has only one element. The test cases also cover cases when there is infinity number in the array or the user want to find the infinity number from the input array. Then doctests begin to test whether the function can correctly return the index of an item in part of the input array. The test cases cover cases when the item is in specific part of the array, when the item is not in specific part of the array, when the input right index is smaller than the left index and when right index and left index are the same."
   ]
  },
  {
   "cell_type": "code",
   "execution_count": 2,
   "metadata": {
    "collapsed": false
   },
   "outputs": [
    {
     "name": "stdout",
     "output_type": "stream",
     "text": [
      "Overwriting test_binsearch.py\n"
     ]
    }
   ],
   "source": [
    "%%file test_binsearch.py\n",
    "from pytest import raises\n",
    "import unittest\n",
    "import numpy as np\n",
    "from binsearch import binary_search\n",
    "\n",
    "input =list(range(10))\n",
    "class MyTest(unittest.TestCase):  \n",
    "    #1\n",
    "    def test_none(self):\n",
    "        with self.assertRaises(TypeError):\n",
    "            binary_search([None, 1], 1)\n",
    "    #2        \n",
    "    def test_none_needle(self):\n",
    "        with self.assertRaises(TypeError):\n",
    "            binary_search([2, 1], None)\n",
    "    #3        \n",
    "    def test_not_numeric(self):\n",
    "        with self.assertRaises(TypeError):\n",
    "            binary_search(['a', 1], 1)\n",
    "    #4        \n",
    "    def test_not_numeric_needle(self):\n",
    "        with self.assertRaises(TypeError):\n",
    "            binary_search([2, 1], 'a')\n",
    "    #5      \n",
    "    def test_item_in_array(self):\n",
    "        self.assertEqual(binary_search(input, 5), 5)\n",
    "    #6        \n",
    "    def test_item_less_than_range(self):\n",
    "        self.assertEqual(binary_search(input, -1), -1)\n",
    "    #7    \n",
    "    def test_item_greater_than_range(self):\n",
    "        self.assertEqual(binary_search(input, 10), -1) \n",
    "    #8\n",
    "    def test_item_in_array_not_numeric(self):\n",
    "        self.assertEqual(binary_search(('a', 'b', 'c'),'b'), 1)\n",
    "    #9       \n",
    "    def test_item_less_than_range_not_numeric(self):\n",
    "        self.assertEqual(binary_search(('b', 'c'), 'a'), -1)\n",
    "    #10    \n",
    "    def test_item_greater_than_range_not_numeric(self):\n",
    "        self.assertEqual(binary_search(('a', 'b', 'c'), 'd'), -1)\n",
    "    #11        \n",
    "    def test_end_value_left(self):\n",
    "        self.assertEqual(binary_search(input, 0), 0)\n",
    "    #12   \n",
    "    def test_end_value_right(self):\n",
    "        self.assertEqual(binary_search(input, 9), 9)\n",
    "    #13                \n",
    "    def test_zero_length_array(self):\n",
    "        self.assertEqual(binary_search([], 5), -1)\n",
    "    #14    \n",
    "    def test_one_length_array(self):\n",
    "        self.assertEqual(binary_search([5], 5), 0)\n",
    "    #15    \n",
    "    def test_single_element_array_no_item(self):\n",
    "        self.assertEqual(binary_search([5], 4), -1)\n",
    "    #16\n",
    "    def test_inf(self):\n",
    "        self.assertEqual(binary_search([1,2,np.inf], 2), 1)\n",
    "    #17\n",
    "    def test_inf_needle(self):\n",
    "        self.assertEqual(binary_search([1,2,np.inf], np.inf), 2)\n",
    "    #18    \n",
    "    def test_range_find(self):\n",
    "        self.assertEqual(binary_search(input, 2, 1,3), 2)\n",
    "    #19    \n",
    "    def test_range_find_no_item(self):\n",
    "        self.assertEqual(binary_search(list(range(10)), 5, 1,3), -1)\n",
    "    #20    \n",
    "    def test_left_greater_right(self):\n",
    "        self.assertEqual(binary_search(input, 2, 3, 1), -1)\n",
    "    #21    \n",
    "    def test_one_length_range(self):\n",
    "        self.assertEqual(binary_search(input, 2, 2, 2), 2)\n",
    "    #22    \n",
    "    def test_one_length_range_no_item(self):\n",
    "        self.assertEqual(binary_search(input, 5, 2, 2), -1)\n",
    "        \n",
    "    #23\n",
    "    def test_duplicate(self):\n",
    "        self.assertEqual(binary_search([1,2,3,4,2], 2), 1)\n",
    "    \n",
    "    \n",
    "if __name__ == '__main__':\n",
    "    unittest.main()        \n",
    "#suite = unittest.TestLoader().loadTestsFromModule(MyTest())\n",
    "#unittest.TextTestRunner().run(suite)"
   ]
  },
  {
   "cell_type": "code",
   "execution_count": 3,
   "metadata": {
    "collapsed": false
   },
   "outputs": [
    {
     "name": "stdout",
     "output_type": "stream",
     "text": [
      ".......................\r\n",
      "----------------------------------------------------------------------\r\n",
      "Ran 23 tests in 0.001s\r\n",
      "\r\n",
      "OK\r\n"
     ]
    }
   ],
   "source": [
    "!python3 test_binsearch.py"
   ]
  },
  {
   "cell_type": "code",
   "execution_count": 4,
   "metadata": {
    "collapsed": false
   },
   "outputs": [
    {
     "name": "stdout",
     "output_type": "stream",
     "text": [
      "\u001b[1m============================= test session starts ==============================\u001b[0m\n",
      "platform darwin -- Python 3.5.2, pytest-2.9.2, py-1.4.31, pluggy-0.3.1\n",
      "rootdir: /Users/mxy/Documents/1cs207/cs207-2016/homeworks, inifile: \n",
      "plugins: cov-2.3.1\n",
      "collected 23 items \n",
      "\u001b[0m\n",
      "test_binsearch.py .......................\n",
      "\n",
      "\u001b[32m\u001b[1m========================== 23 passed in 0.25 seconds ===========================\u001b[0m\n"
     ]
    }
   ],
   "source": [
    "!py.test test_binsearch.py "
   ]
  },
  {
   "cell_type": "markdown",
   "metadata": {},
   "source": [
    "In addition, we should be **systematic** about testing our code. You should at-least have some tests like this:\n",
    "\n",
    "1. We should test with wierd data, ie a wierd array: does it have NANs, is it numeric? Does it have 0 elelemts? 1 element? 2?...ie test the boundaries\n",
    "\n",
    "2. Then think of how the needle relates to the above. Try needles less than or greter than the range in the sorted array, besides needles inbetween (in both cases the needle not being in the array). Try needles at the extremes of the array.\n",
    "\n",
    "3. test the integration of 1 and 2 to make sure something has not gone wrong there.\n",
    "\n",
    "Note: you can always compare your answers with linear search implemented in python."
   ]
  },
  {
   "cell_type": "markdown",
   "metadata": {},
   "source": [
    "For reference, here are some of our concerns from that lab:\n",
    "\n",
    "#### What's happened to our issue from before?\n",
    "\n",
    "- What if the value is not there in the array? What if it is there multiple times? what are we returning (why the -1). Are we consistent in our returning?\n",
    "\n",
    "We return -1 if the element is not in the array. If it is there multiple times, we will return one of them: it is not defined which. We are consistent by always returning an int, choosing one which cannot be an index.\n",
    "\n",
    "- What if rangemax is so high as to create overflow: \n",
    "\n",
    "We fixed it by using the difference and have documented it in the algorithm\n",
    "\n",
    "\n",
    "- what types are we supporting? . \n",
    "\n",
    "It seems that as long as we have a notion of equals `==`, and a notion of `<` to support sorting we are set. We should document this.\n",
    "\n",
    "- what happens if we have a NaN in our array? Infty?\n",
    "\n",
    "If our preconditions are violated by the user, we can do anything. Doing it nicely might be costly. so we wont.\n",
    "\n",
    "\n",
    "- what if da_array was not an array?\n",
    "\n",
    "The user violated the pre-conditions. Anything could happen. We could check for a list\n",
    "but yhen that would hurt a special class which implemented the python sequence protocol\n",
    "\n",
    "- What happens if array is not sorted: \n",
    "\n",
    "The user violated the pre-conditions. We could return an error, violate post conditions. If we sort it we'd violate the o(lg(n)) notion. (fixing it seems dubious). Can we check if its sorted? This is naively O(n) and breaks our performance specifications. We can create a guard to terminate the array at more than n iterations for the infinite case or let the user have enough rope to hang themselves\n",
    "\n"
   ]
  },
  {
   "cell_type": "markdown",
   "metadata": {},
   "source": [
    "**Submit** this to us by creating a repo `cs207binsearch` under your userid with a file `binarysearch.py` and accompanying test file(s). Intergrate with Travis CI and Coveralls. Set up badges on the README of your repo. Write the link to your repo below."
   ]
  },
  {
   "cell_type": "markdown",
   "metadata": {},
   "source": [
    "*your answer here*\n",
    "https://github.com/mxy2008/cs207binsearch"
   ]
  },
  {
   "cell_type": "code",
   "execution_count": null,
   "metadata": {
    "collapsed": true
   },
   "outputs": [],
   "source": []
  }
 ],
 "metadata": {
  "anaconda-cloud": {},
  "kernelspec": {
   "display_name": "Python [py35]",
   "language": "python",
   "name": "Python [py35]"
  },
  "language_info": {
   "codemirror_mode": {
    "name": "ipython",
    "version": 3
   },
   "file_extension": ".py",
   "mimetype": "text/x-python",
   "name": "python",
   "nbconvert_exporter": "python",
   "pygments_lexer": "ipython3",
   "version": "3.5.2"
  }
 },
 "nbformat": 4,
 "nbformat_minor": 0
}
